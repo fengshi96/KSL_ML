{
 "cells": [
  {
   "cell_type": "code",
   "execution_count": 1,
   "metadata": {},
   "outputs": [],
   "source": [
    "using Random\n",
    "using LinearAlgebra\n",
    "using ITensors \n",
    "using HDF5 "
   ]
  },
  {
   "cell_type": "code",
   "execution_count": 2,
   "metadata": {},
   "outputs": [
    {
     "ename": "ErrorException",
     "evalue": "unable to determine if psi.dat is accessible in the HDF5 format (file may not exist)",
     "output_type": "error",
     "traceback": [
      "unable to determine if psi.dat is accessible in the HDF5 format (file may not exist)",
      "",
      "Stacktrace:",
      " [1] error(::String) at ./error.jl:33",
      " [2] h5open(::String, ::String; swmr::Bool, pv::Base.Iterators.Pairs{Union{},Union{},Tuple{},NamedTuple{(),Tuple{}}}) at /home/shifeng/.julia/packages/HDF5/cDXRT/src/HDF5.jl:430",
      " [3] h5open(::String, ::String) at /home/shifeng/.julia/packages/HDF5/cDXRT/src/HDF5.jl:412",
      " [4] top-level scope at In[2]:1"
     ]
    }
   ],
   "source": [
    "f = h5open(\"data.h5\",\"r\")\n",
    "psi = read(f,\"psi\",MPS)\n",
    "close(f)"
   ]
  },
  {
   "cell_type": "code",
   "execution_count": null,
   "metadata": {},
   "outputs": [],
   "source": []
  }
 ],
 "metadata": {
  "kernelspec": {
   "display_name": "Julia 1.4.2",
   "language": "julia",
   "name": "julia-1.4"
  },
  "language_info": {
   "file_extension": ".jl",
   "mimetype": "application/julia",
   "name": "julia",
   "version": "1.4.2"
  }
 },
 "nbformat": 4,
 "nbformat_minor": 4
}
