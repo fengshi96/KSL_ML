{
 "cells": [
  {
   "cell_type": "code",
   "execution_count": 4,
   "metadata": {},
   "outputs": [],
   "source": [
    "using Random\n",
    "using LinearAlgebra\n",
    "using ITensors \n",
    "using HDF5 "
   ]
  },
  {
   "cell_type": "code",
   "execution_count": 5,
   "metadata": {},
   "outputs": [
    {
     "name": "stderr",
     "output_type": "stream",
     "text": [
      "HDF5-DIAG: Error detected in HDF5 (1.12.0) thread 0:\n",
      "  #000: H5G.c line 528 in H5Gopen2(): unable to open group\n",
      "    major: Symbol table\n",
      "    minor: Can't open object\n",
      "  #001: H5VLcallback.c line 4186 in H5VL_group_open(): group open failed\n",
      "    major: Virtual Object Layer\n",
      "    minor: Can't open object\n",
      "  #002: H5VLcallback.c line 4153 in H5VL__group_open(): group open failed\n",
      "    major: Virtual Object Layer\n",
      "    minor: Can't open object\n",
      "  #003: H5VLnative_group.c line 125 in H5VL__native_group_open(): unable to open group\n",
      "    major: Symbol table\n",
      "    minor: Can't open object\n",
      "  #004: H5Gint.c line 282 in H5G__open_name(): group not found\n",
      "    major: Symbol table\n",
      "    minor: Object not found\n",
      "  #005: H5Gloc.c line 462 in H5G_loc_find(): can't find object\n",
      "    major: Symbol table\n",
      "    minor: Object not found\n",
      "  #006: H5Gtraverse.c line 855 in H5G_traverse(): internal path traversal failed\n",
      "    major: Symbol table\n",
      "    minor: Object not found\n",
      "  #007: H5Gtraverse.c line 630 in H5G__traverse_real(): traversal operator failed\n",
      "    major: Symbol table\n",
      "    minor: Callback failed\n",
      "  #008: H5Gloc.c line 418 in H5G__loc_find_cb(): object 'store' doesn't exist\n",
      "    major: Symbol table\n",
      "    minor: Object not found\n"
     ]
    },
    {
     "ename": "ErrorException",
     "evalue": "Error opening group /psi/MPS[1]/store",
     "output_type": "error",
     "traceback": [
      "Error opening group /psi/MPS[1]/store",
      "",
      "Stacktrace:",
      " [1] error(::String, ::String, ::String, ::String) at ./error.jl:42",
      " [2] h5g_open at /home/shifeng/.julia/packages/HDF5/cDXRT/src/api.jl:702 [inlined]",
      " [3] open_group(::HDF5.Group, ::String, ::HDF5.Properties) at /home/shifeng/.julia/packages/HDF5/cDXRT/src/HDF5.jl:659 (repeats 2 times)",
      " [4] read(::HDF5.Group, ::String, ::Type{ITensor}) at /home/shifeng/.julia/packages/ITensors/1UpIo/src/itensor.jl:2017",
      " [5] #723 at ./none:0 [inlined]",
      " [6] iterate at ./generator.jl:47 [inlined]",
      " [7] collect(::Base.Generator{UnitRange{Int64},ITensors.var\"#723#724\"{HDF5.Group}}) at ./array.jl:665",
      " [8] read(::HDF5.File, ::String, ::Type{MPS}) at /home/shifeng/.julia/packages/ITensors/1UpIo/src/mps/mps.jl:530",
      " [9] top-level scope at In[5]:2"
     ]
    }
   ],
   "source": [
    "f = h5open(\"data.h5\",\"r\")\n",
    "psi = read(f,\"psi\",MPS)\n",
    "close(f)"
   ]
  },
  {
   "cell_type": "code",
   "execution_count": null,
   "metadata": {},
   "outputs": [],
   "source": []
  }
 ],
 "metadata": {
  "kernelspec": {
   "display_name": "Julia 1.4.2",
   "language": "julia",
   "name": "julia-1.4"
  },
  "language_info": {
   "file_extension": ".jl",
   "mimetype": "application/julia",
   "name": "julia",
   "version": "1.4.2"
  }
 },
 "nbformat": 4,
 "nbformat_minor": 4
}
